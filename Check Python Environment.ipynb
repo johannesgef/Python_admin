{
 "cells": [
  {
   "cell_type": "code",
   "execution_count": 1,
   "metadata": {},
   "outputs": [
    {
     "data": {
      "text/plain": [
       "'/Users/johannes/opt/anaconda3/envs/py38-ds/bin/python'"
      ]
     },
     "execution_count": 1,
     "metadata": {},
     "output_type": "execute_result"
    }
   ],
   "source": [
    "import sys\n",
    "sys.executable"
   ]
  },
  {
   "cell_type": "code",
   "execution_count": 2,
   "metadata": {},
   "outputs": [
    {
     "data": {
      "text/plain": [
       "['/Users/johannes/opt/anaconda3/envs/py38-ds/lib/python3.8/site-packages']"
      ]
     },
     "execution_count": 2,
     "metadata": {},
     "output_type": "execute_result"
    }
   ],
   "source": [
    "import site \n",
    "site.getsitepackages()"
   ]
  },
  {
   "cell_type": "code",
   "execution_count": 3,
   "metadata": {},
   "outputs": [
    {
     "data": {
      "text/plain": [
       "{'stdlib': '/Users/johannes/opt/anaconda3/envs/py38-ds/lib/python3.8',\n",
       " 'platstdlib': '/Users/johannes/opt/anaconda3/envs/py38-ds/lib/python3.8',\n",
       " 'purelib': '/Users/johannes/opt/anaconda3/envs/py38-ds/lib/python3.8/site-packages',\n",
       " 'platlib': '/Users/johannes/opt/anaconda3/envs/py38-ds/lib/python3.8/site-packages',\n",
       " 'include': '/Users/johannes/opt/anaconda3/envs/py38-ds/include/python3.8',\n",
       " 'platinclude': '/Users/johannes/opt/anaconda3/envs/py38-ds/include/python3.8',\n",
       " 'scripts': '/Users/johannes/opt/anaconda3/envs/py38-ds/bin',\n",
       " 'data': '/Users/johannes/opt/anaconda3/envs/py38-ds'}"
      ]
     },
     "execution_count": 3,
     "metadata": {},
     "output_type": "execute_result"
    }
   ],
   "source": [
    "import sysconfig\n",
    "sysconfig.get_paths()"
   ]
  },
  {
   "cell_type": "code",
   "execution_count": 1,
   "metadata": {
    "scrolled": false
   },
   "outputs": [
    {
     "name": "stdout",
     "output_type": "stream",
     "text": [
      "$PATH:\r\n",
      "\t/Users/johannes/opt/anaconda3/envs/py38-ds/bin\r\n",
      "\t/Users/johannes/opt/anaconda3/condabin\r\n",
      "\t/Users/johannes/.pyenv/shims\r\n",
      "\t/Library/Frameworks/Python.framework/Versions/3.8/bin\r\n",
      "\t/usr/local/bin\r\n",
      "\t/usr/bin\r\n",
      "\t/bin\r\n",
      "\t/usr/sbin\r\n",
      "\t/sbin\r\n",
      "\r\n",
      "sys.path:\r\n",
      "\t/Users/johannes/opt/anaconda3/envs/py38-ds/bin\r\n",
      "\t/Users/johannes/opt/anaconda3/envs/py38-ds/lib/python38.zip\r\n",
      "\t/Users/johannes/opt/anaconda3/envs/py38-ds/lib/python3.8\r\n",
      "\t/Users/johannes/opt/anaconda3/envs/py38-ds/lib/python3.8/lib-dynload\r\n",
      "\t/Users/johannes/opt/anaconda3/envs/py38-ds/lib/python3.8/site-packages\r\n",
      "\r\n",
      "sys.executable:\r\n",
      "\t/Users/johannes/opt/anaconda3/envs/py38-ds/bin/python\r\n",
      "\r\n",
      "sys.version:\r\n",
      "\t3.8.2 (default, May  6 2020, 02:49:43) \r\n",
      "\t[Clang 4.0.1 (tags/RELEASE_401/final)]\r\n",
      "\r\n",
      "platform.platform():\r\n",
      "\tmacOS-10.15.4-x86_64-i386-64bit\r\n",
      "\r\n",
      "which -a jupyter:\r\n",
      "\t/Users/johannes/opt/anaconda3/envs/py38-ds/bin/jupyter\r\n",
      "\r\n",
      "pip list:\r\n",
      "\tPackage          Version            \r\n",
      "\t---------------- -------------------\r\n",
      "\tappnope          0.1.0              \r\n",
      "\tbackcall         0.1.0              \r\n",
      "\tcertifi          2020.4.5.1         \r\n",
      "\tcycler           0.10.0             \r\n",
      "\tdecorator        4.4.2              \r\n",
      "\tentrypoints      0.3                \r\n",
      "\tipykernel        5.1.4              \r\n",
      "\tipython          7.13.0             \r\n",
      "\tipython-genutils 0.2.0              \r\n",
      "\tjedi             0.17.0             \r\n",
      "\tjoblib           0.14.1             \r\n",
      "\tjupyter-client   6.1.3              \r\n",
      "\tjupyter-core     4.6.3              \r\n",
      "\tkiwisolver       1.2.0              \r\n",
      "\tmatplotlib       3.1.3              \r\n",
      "\tmkl-fft          1.0.15             \r",
      "\r\n",
      "\tmkl-service      2.3.0              \r\n",
      "\tnumpy            1.18.1             \r\n",
      "\tpandas           1.0.3              \r\n",
      "\tparso            0.7.0              \r\n",
      "\tpexpect          4.8.0              \r\n",
      "\tpickleshare      0.7.5              \r\n",
      "\tpip              20.0.2             \r\n",
      "\tprompt-toolkit   3.0.4              \r\n",
      "\tptyprocess       0.6.0              \r\n",
      "\tPygments         2.6.1              \r\n",
      "\tpyparsing        2.4.7              \r\n",
      "\tpython-dateutil  2.8.1              \r\n",
      "\tpytz             2020.1             \r\n",
      "\tpyzmq            18.1.1             \r\n",
      "\tscikit-learn     0.22.1             \r\n",
      "\tscipy            1.4.1              \r\n",
      "\tsetuptools       46.1.3.post20200330\r\n",
      "\tsix              1.14.0             \r\n",
      "\ttornado          6.0.4              \r\n",
      "\ttraitlets        4.3.3              \r\n",
      "\twcwidth          0.1.9              \r\n",
      "\twheel            0.34.2\r\n",
      "\r\n",
      "conda list:\r\n",
      "\t# packages in environment at /Users/johannes/opt/anaconda3/envs/py38-ds:\r\n",
      "\t#\r\n",
      "\t# Name                    Version                   Build  Channel\r\n",
      "\tappnope                   0.1.0                    py38_0  \r\n",
      "\tbackcall                  0.1.0                    py38_0  \r\n",
      "\tblas                      1.0                         mkl  \r\n",
      "\tca-certificates           2020.1.1                      0  \r\n",
      "\tcertifi                   2020.4.5.1               py38_0  \r\n",
      "\tcycler                    0.10.0                   py38_0  \r\n",
      "\tdecorator                 4.4.2                      py_0  \r\n",
      "\tentrypoints               0.3                      py38_0  \r\n",
      "\tfreetype                  2.9.1                hb4e5f40_0  \r\n",
      "\tintel-openmp              2019.4                      233  \r\n",
      "\tipykernel                 5.1.4            py38h39e3cac_0  \r\n",
      "\tipython                   7.13.0           py38h5ca1d4c_0  \r\n",
      "\tipython_genutils          0.2.0                    py38_0  \r\n",
      "\tjedi                      0.17.0                   py38_0  \r\n",
      "\tjoblib                    0.14.1                     py_0  \r\n",
      "\tjupyter_client            6.1.3                      py_0  \r\n",
      "\tjupyter_core              4.6.3                    py38_0  \r\n",
      "\tkiwisolver                1.2.0            py38h04f5b5a_0  \r\n",
      "\tlibcxx                    4.0.1                hcfea43d_1  \r\n",
      "\tlibcxxabi                 4.0.1                hcfea43d_1  \r\n",
      "\tlibedit                   3.1.20181209         hb402a30_0  \r\n",
      "\tlibffi                    3.3                  h0a44026_1  \r\n",
      "\tlibgfortran               3.0.1                h93005f0_2  \r\n",
      "\tlibpng                    1.6.37               ha441bb4_0  \r\n",
      "\tlibsodium                 1.0.16               h3efe00b_0  \r\n",
      "\tllvm-openmp               4.0.1                hcfea43d_1  \r\n",
      "\tmatplotlib                3.1.3                    py38_0  \r\n",
      "\tmatplotlib-base           3.1.3            py38h9aa3819_0  \r\n",
      "\tmkl                       2019.4                      233  \r\n",
      "\tmkl-service               2.3.0            py38hfbe908c_0  \r\n",
      "\tmkl_fft                   1.0.15           py38h5e564d8_0  \r\n",
      "\tmkl_random                1.1.0            py38h6440ff4_0  \r\n",
      "\tncurses                   6.2                  h0a44026_1  \r\n",
      "\tnumpy                     1.18.1           py38h7241aed_0  \r\n",
      "\tnumpy-base                1.18.1           py38h6575580_1  \r\n",
      "\topenssl                   1.1.1g               h1de35cc_0  \r\n",
      "\tpandas                    1.0.3            py38h6c726b0_0  \r\n",
      "\tparso                     0.7.0                      py_0  \r\n",
      "\tpexpect                   4.8.0                    py38_0  \r\n",
      "\tpickleshare               0.7.5                 py38_1000  \r\n",
      "\tpip                       20.0.2                   py38_3  \r\n",
      "\tprompt-toolkit            3.0.4                      py_0  \r\n",
      "\tprompt_toolkit            3.0.4                         0  \r\n",
      "\tptyprocess                0.6.0                    py38_0  \r\n",
      "\tpygments                  2.6.1                      py_0  \r\n",
      "\tpyparsing                 2.4.7                      py_0  \r\n",
      "\tpython                    3.8.2               hf48f09d_13  \r\n",
      "\tpython-dateutil           2.8.1                      py_0  \r\n",
      "\tpytz                      2020.1                     py_0  \r\n",
      "\tpyzmq                     18.1.1           py38h0a44026_0  \r\n",
      "\treadline                  8.0                  h1de35cc_0  \r\n",
      "\tscikit-learn              0.22.1           py38h27c97d8_0  \r\n",
      "\tscipy                     1.4.1            py38h44e99c9_0  \r\n",
      "\tsetuptools                46.1.3                   py38_0  \r\n",
      "\tsix                       1.14.0                   py38_0  \r\n",
      "\tsqlite                    3.31.1               h5c1f38d_1  \r\n",
      "\ttk                        8.6.8                ha441bb4_0  \r\n",
      "\ttornado                   6.0.4            py38h1de35cc_1  \r\n",
      "\ttraitlets                 4.3.3                    py38_0  \r\n",
      "\twcwidth                   0.1.9                      py_0  \r\n",
      "\twheel                     0.34.2                   py38_0  \r\n",
      "\txz                        5.2.5                h1de35cc_0  \r\n",
      "\tzeromq                    4.3.1                h0a44026_3  \r\n",
      "\tzlib                      1.2.11               h1de35cc_3\r\n"
     ]
    }
   ],
   "source": [
    "!jupyter-troubleshoot"
   ]
  },
  {
   "cell_type": "code",
   "execution_count": null,
   "metadata": {},
   "outputs": [],
   "source": []
  }
 ],
 "metadata": {
  "kernelspec": {
   "display_name": "Python [conda env:py38-ds]",
   "language": "python",
   "name": "conda-env-py38-ds-py"
  },
  "language_info": {
   "codemirror_mode": {
    "name": "ipython",
    "version": 3
   },
   "file_extension": ".py",
   "mimetype": "text/x-python",
   "name": "python",
   "nbconvert_exporter": "python",
   "pygments_lexer": "ipython3",
   "version": "3.8.2"
  }
 },
 "nbformat": 4,
 "nbformat_minor": 4
}
