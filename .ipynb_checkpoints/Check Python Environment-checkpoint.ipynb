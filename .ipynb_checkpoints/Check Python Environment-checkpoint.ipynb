{
 "cells": [
  {
   "cell_type": "code",
   "execution_count": 1,
   "metadata": {},
   "outputs": [
    {
     "data": {
      "text/plain": [
       "'C:\\\\Anaconda3\\\\envs\\\\py38-ds\\\\python.exe'"
      ]
     },
     "execution_count": 1,
     "metadata": {},
     "output_type": "execute_result"
    }
   ],
   "source": [
    "import sys\n",
    "sys.executable"
   ]
  },
  {
   "cell_type": "code",
   "execution_count": 2,
   "metadata": {},
   "outputs": [
    {
     "data": {
      "text/plain": [
       "['C:\\\\Anaconda3\\\\envs\\\\py38-ds',\n",
       " 'C:\\\\Anaconda3\\\\envs\\\\py38-ds\\\\lib\\\\site-packages']"
      ]
     },
     "execution_count": 2,
     "metadata": {},
     "output_type": "execute_result"
    }
   ],
   "source": [
    "import site \n",
    "site.getsitepackages()"
   ]
  },
  {
   "cell_type": "code",
   "execution_count": 3,
   "metadata": {},
   "outputs": [
    {
     "data": {
      "text/plain": [
       "{'stdlib': 'C:\\\\Anaconda3\\\\envs\\\\py38-ds\\\\Lib',\n",
       " 'platstdlib': 'C:\\\\Anaconda3\\\\envs\\\\py38-ds\\\\Lib',\n",
       " 'purelib': 'C:\\\\Anaconda3\\\\envs\\\\py38-ds\\\\Lib\\\\site-packages',\n",
       " 'platlib': 'C:\\\\Anaconda3\\\\envs\\\\py38-ds\\\\Lib\\\\site-packages',\n",
       " 'include': 'C:\\\\Anaconda3\\\\envs\\\\py38-ds\\\\Include',\n",
       " 'platinclude': 'C:\\\\Anaconda3\\\\envs\\\\py38-ds\\\\Include',\n",
       " 'scripts': 'C:\\\\Anaconda3\\\\envs\\\\py38-ds\\\\Scripts',\n",
       " 'data': 'C:\\\\Anaconda3\\\\envs\\\\py38-ds'}"
      ]
     },
     "execution_count": 3,
     "metadata": {},
     "output_type": "execute_result"
    }
   ],
   "source": [
    "import sysconfig\n",
    "sysconfig.get_paths()"
   ]
  },
  {
   "cell_type": "code",
   "execution_count": 4,
   "metadata": {
    "scrolled": false
   },
   "outputs": [
    {
     "name": "stdout",
     "output_type": "stream",
     "text": [
      "$PATH:\n",
      "\tC:\\Anaconda3\\envs\\py38-ds\n",
      "\tC:\\Anaconda3\\envs\\py38-ds\\Library\\mingw-w64\\bin\n",
      "\tC:\\Anaconda3\\envs\\py38-ds\\Library\\usr\\bin\n",
      "\tC:\\Anaconda3\\envs\\py38-ds\\Library\\bin\n",
      "\tC:\\Anaconda3\\envs\\py38-ds\\Scripts\n",
      "\tC:\\Anaconda3\\envs\\py38-ds\\bin\n",
      "\tC:\\Anaconda3\\condabin\n",
      "\tC:\\Program Files (x86)\\Common Files\\Oracle\\Java\\javapath\n",
      "\tC:\\WINDOWS\\system32\n",
      "\tC:\\WINDOWS\n",
      "\tC:\\WINDOWS\\System32\\Wbem\n",
      "\tC:\\WINDOWS\\System32\\WindowsPowerShell\\v1.0\n",
      "\tC:\\Program Files\\PuTTY\n",
      "\tC:\\WINDOWS\\System32\\OpenSSH\n",
      "\tC:\\Program Files\\Intel\\WiFi\\bin\n",
      "\tC:\\Program Files\\Common Files\\Intel\\WirelessCommon\n",
      "\tC:\\Program Files (x86)\\Intel\\Intel(R) Management Engine Components\\DAL\n",
      "\tC:\\Program Files\\Intel\\Intel(R) Management Engine Components\\DAL\n",
      "\tC:\\Program Files\\Microsoft VS Code\\bin\n",
      "\tC:\\Users\\HintenChristophvon\\AppData\\Local\\Microsoft\\WindowsApps\n",
      "\tC:\\Users\\HintenChristophvon\\AppData\\Local\\GitHubDesktop\\bin\n",
      "\n",
      "sys.path:\n",
      "\tC:\\Anaconda3\\envs\\py38-ds\\Scripts\n",
      "\tC:\\Anaconda3\\envs\\py38-ds\\python38.zip\n",
      "\tC:\\Anaconda3\\envs\\py38-ds\\DLLs\n",
      "\tC:\\Anaconda3\\envs\\py38-ds\\lib\n",
      "\tC:\\Anaconda3\\envs\\py38-ds\n",
      "\tC:\\Anaconda3\\envs\\py38-ds\\lib\\site-packages\n",
      "\tC:\\Anaconda3\\envs\\py38-ds\\lib\\site-packages\\win32\n",
      "\tC:\\Anaconda3\\envs\\py38-ds\\lib\\site-packages\\win32\\lib\n",
      "\tC:\\Anaconda3\\envs\\py38-ds\\lib\\site-packages\\Pythonwin\n",
      "\n",
      "sys.executable:\n",
      "\tC:\\Anaconda3\\envs\\py38-ds\\python.exe\n",
      "\n",
      "sys.version:\n",
      "\t3.8.2 (default, Apr 14 2020, 19:01:40) [MSC v.1916 64 bit (AMD64)]\n",
      "\n",
      "platform.platform():\n",
      "\tWindows-10-10.0.18362-SP0\n",
      "\n",
      "where jupyter:\n",
      "\tC:\\Anaconda3\\envs\\py38-ds\\Scripts\\jupyter.exe\n",
      "\n",
      "pip list:\n",
      "\tPackage          Version            \n",
      "\n",
      "\t---------------- -------------------\n",
      "\n",
      "\tbackcall         0.1.0              \n",
      "\n",
      "\tcertifi          2020.4.5.1         \n",
      "\n",
      "\tcolorama         0.4.3              \n",
      "\n",
      "\tcycler           0.10.0             \n",
      "\n",
      "\tdecorator        4.4.2              \n",
      "\n",
      "\tentrypoints      0.3                \n",
      "\n",
      "\tipykernel        5.1.4              \n",
      "\n",
      "\tipython          7.13.0             \n",
      "\n",
      "\tipython-genutils 0.2.0              \n",
      "\n",
      "\tjedi             0.16.0             \n",
      "\n",
      "\tjoblib           0.14.1             \n",
      "\n",
      "\tjupyter-client   6.1.2              \n",
      "\n",
      "\tjupyter-core     4.6.3              \n",
      "\n",
      "\tkiwisolver       1.0.1              \n",
      "\n",
      "\tmatplotlib       3.1.3              \n",
      "\n",
      "\tmkl-fft          1.0.15             \n",
      "\n",
      "\tmkl-random       1.1.0              \n",
      "\n",
      "\tmkl-service      2.3.0              \n",
      "\n",
      "\tnumpy            1.18.1             \n",
      "\n",
      "\tpandas           1.0.3              \n",
      "\n",
      "\tparso            0.6.2              \n",
      "\n",
      "\tpickleshare      0.7.5              \n",
      "\n",
      "\tpip              20.0.2             \n",
      "\n",
      "\tprompt-toolkit   3.0.4              \n",
      "\n",
      "\tPygments         2.6.1              \n",
      "\n",
      "\tpyparsing        2.4.6              \n",
      "\n",
      "\tpython-dateutil  2.8.1              \n",
      "\n",
      "\tpytz             2019.3             \n",
      "\n",
      "\tpywin32          227                \n",
      "\n",
      "\tpyzmq            18.1.1             \n",
      "\n",
      "\tscikit-learn     0.22.1             \n",
      "\n",
      "\tscipy            1.4.1              \n",
      "\n",
      "\tsetuptools       46.1.3.post20200330\n",
      "\n",
      "\tsip              4.19.13            \n",
      "\n",
      "\tsix              1.14.0             \n",
      "\n",
      "\ttornado          6.0.4              \n",
      "\n",
      "\ttraitlets        4.3.3              \n",
      "\n",
      "\twcwidth          0.1.9              \n",
      "\n",
      "\twheel            0.34.2             \n",
      "\n",
      "\twincertstore     0.2\n"
     ]
    }
   ],
   "source": [
    "!jupyter-troubleshoot"
   ]
  },
  {
   "cell_type": "code",
   "execution_count": null,
   "metadata": {},
   "outputs": [],
   "source": []
  }
 ],
 "metadata": {
  "kernelspec": {
   "display_name": "Python [conda env:py38-ds]",
   "language": "python",
   "name": "conda-env-py38-ds-py"
  },
  "language_info": {
   "codemirror_mode": {
    "name": "ipython",
    "version": 3
   },
   "file_extension": ".py",
   "mimetype": "text/x-python",
   "name": "python",
   "nbconvert_exporter": "python",
   "pygments_lexer": "ipython3",
   "version": "3.8.2"
  }
 },
 "nbformat": 4,
 "nbformat_minor": 4
}
